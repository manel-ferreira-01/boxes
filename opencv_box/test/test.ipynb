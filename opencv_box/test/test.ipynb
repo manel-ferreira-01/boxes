{
 "cells": [
  {
   "cell_type": "code",
   "execution_count": 2,
   "metadata": {},
   "outputs": [],
   "source": [
    "import grpc\n",
    "\n",
    "# add a folder to the system path\n",
    "import sys\n",
    "sys.path.append(\"../protos\")\n",
    "import pipeline_pb2 as opencv_pb2\n",
    "import pipeline_pb2_grpc as opencv_pb2_grpc\n",
    "from aux import wrap_value, unwrap_value\n",
    "import json\n",
    "import numpy as np\n",
    "import io\n",
    "\n",
    "def bytes_to_np(b: bytes) -> np.ndarray:\n",
    "    return np.load(io.BytesIO(b))\n"
   ]
  },
  {
   "cell_type": "code",
   "execution_count": 70,
   "metadata": {},
   "outputs": [
    {
     "name": "stdout",
     "output_type": "stream",
     "text": [
      "Read 00.jpg: 0.16 MB\n",
      "Read 01.jpg: 0.16 MB\n",
      "Read 01.jpg: 0.16 MB\n"
     ]
    }
   ],
   "source": [
    "#target='printart.isr.ist.utl.pt:8061'\n",
    "target='localhost:8061'\n",
    "# List of file paths (example paths — replace with your actual ones)\n",
    "file_paths = [\n",
    "    '00.jpg',\n",
    "    '01.jpg',\n",
    "    '01.jpg',\n",
    "]\n",
    "\n",
    "#list all files in a certain directory\n",
    "import os\n",
    "directory = \"/home/manuelf/mast3r/images_in/piv\"\n",
    "#file_paths = [os.path.join(directory, f) for f in os.listdir(directory) if os.path.isfile(os.path.join(directory, f))][0:1]\n",
    "\n",
    "# List to hold the binary data of each image\n",
    "image_byte_list = []\n",
    "for path in file_paths:\n",
    "    # Open the file in binary read mode ('rb') and read its entire content\n",
    "    with open(path, 'rb') as f:\n",
    "        image_bytes = f.read()\n",
    "        image_byte_list.append(image_bytes)\n",
    "        print(f\"Read {path}: {len(image_bytes) / (1024 * 1024):.2f} MB\")\n",
    "\n",
    "in_json = {\n",
    "    \"opencv\": {\n",
    "        \"parameters\": {\n",
    "            \"feature_extractor\": \"SIFT\"\n",
    "        }\n",
    "    }\n",
    "}\n",
    "\n",
    "request = opencv_pb2.Envelope(config_json = json.dumps(in_json),\n",
    "                              data = {\"images\": wrap_value(image_byte_list)})\n",
    "\n",
    "#Para imagens muito grandes buffer grande\n",
    "channel_opt = [('grpc.max_send_message_length',-1), \n",
    "               ('grp.max_receive_message_length',-1),\n",
    "               ('grpc.max_message_length', -1)]\n",
    "\n",
    "channel=grpc.insecure_channel(target,options=channel_opt)\n",
    "estimator_stub = opencv_pb2_grpc.PipelineServiceStub(channel)"
   ]
  },
  {
   "cell_type": "code",
   "execution_count": null,
   "metadata": {},
   "outputs": [
    {
     "name": "stdout",
     "output_type": "stream",
     "text": [
      "No inliers\n",
      "{\"status\": \"success\", \"runtime\": 0.24432802200317383, \"timestamp\": 1759749625.7711535}\n"
     ]
    },
    {
     "name": "stderr",
     "output_type": "stream",
     "text": [
      "I0000 00:00:1759749633.625198   39960 chttp2_transport.cc:1336] ipv6:%5B::1%5D:8061: Got goaway [2] err=UNAVAILABLE:GOAWAY received; Error code: 2; Debug Text: Cancelling all calls {grpc_status:14, http2_error:2}\n"
     ]
    }
   ],
   "source": [
    "response = estimator_stub.Process(request)\n",
    "\n",
    "kpts = bytes_to_np(unwrap_value(response.data[\"keypoints\"]))\n",
    "#descs = bytes_to_np(unwrap_value(response.data[\"descriptors\"]))\n",
    "try:\n",
    "    inliersA = bytes_to_np(unwrap_value(response.data[\"matches_inliers_a\"]))\n",
    "    inliersB = bytes_to_np(unwrap_value(response.data[\"matches_inliers_b\"]))\n",
    "\n",
    "    inliersA.shape == inliersB.shape\n",
    "except:\n",
    "    print(\"No inliers\")\n",
    "\n",
    "print(response.config_json)"
   ]
  }
 ],
 "metadata": {
  "kernelspec": {
   "display_name": "base",
   "language": "python",
   "name": "python3"
  },
  "language_info": {
   "codemirror_mode": {
    "name": "ipython",
    "version": 3
   },
   "file_extension": ".py",
   "mimetype": "text/x-python",
   "name": "python",
   "nbconvert_exporter": "python",
   "pygments_lexer": "ipython3",
   "version": "3.12.2"
  }
 },
 "nbformat": 4,
 "nbformat_minor": 2
}
