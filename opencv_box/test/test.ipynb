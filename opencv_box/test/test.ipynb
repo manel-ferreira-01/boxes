{
 "cells": [
  {
   "cell_type": "code",
   "execution_count": 1,
   "metadata": {},
   "outputs": [],
   "source": [
    "import grpc\n",
    "\n",
    "# add a folder to the system path\n",
    "import sys\n",
    "sys.path.append(\"../protos\")\n",
    "import pipeline_pb2 as opencv_pb2\n",
    "import pipeline_pb2_grpc as opencv_pb2_grpc\n",
    "from aux import wrap_value, unwrap_value\n",
    "import json\n",
    "import numpy as np\n",
    "import io\n",
    "\n",
    "def bytes_to_np(b: bytes) -> np.ndarray:\n",
    "    return np.load(io.BytesIO(b))\n"
   ]
  },
  {
   "cell_type": "code",
   "execution_count": 94,
   "metadata": {},
   "outputs": [
    {
     "ename": "_InactiveRpcError",
     "evalue": "<_InactiveRpcError of RPC that terminated with:\n\tstatus = StatusCode.UNAVAILABLE\n\tdetails = \"failed to connect to all addresses; last error: UNKNOWN: ipv4:127.0.0.1:8061: Failed to connect to remote host: connect: Connection refused (111)\"\n\tdebug_error_string = \"UNKNOWN:Error received from peer  {grpc_message:\"failed to connect to all addresses; last error: UNKNOWN: ipv4:127.0.0.1:8061: Failed to connect to remote host: connect: Connection refused (111)\", grpc_status:14}\"\n>",
     "output_type": "error",
     "traceback": [
      "\u001b[31m---------------------------------------------------------------------------\u001b[39m",
      "\u001b[31m_InactiveRpcError\u001b[39m                         Traceback (most recent call last)",
      "\u001b[36mCell\u001b[39m\u001b[36m \u001b[39m\u001b[32mIn[94]\u001b[39m\u001b[32m, line 57\u001b[39m\n\u001b[32m     54\u001b[39m estimator_stub = opencv_pb2_grpc.PipelineServiceStub(channel)\n\u001b[32m     56\u001b[39m \u001b[38;5;66;03m#response = estimator_stub.Process(request)\u001b[39;00m\n\u001b[32m---> \u001b[39m\u001b[32m57\u001b[39m response = \u001b[43mestimator_stub\u001b[49m\u001b[43m.\u001b[49m\u001b[43msimilarity_check\u001b[49m\u001b[43m(\u001b[49m\u001b[43mrequest\u001b[49m\u001b[43m)\u001b[49m\n\u001b[32m     58\u001b[39m \u001b[38;5;28;01mif\u001b[39;00m (json.loads(response.config_json)[\u001b[33m\"\u001b[39m\u001b[33mchanged\u001b[39m\u001b[33m\"\u001b[39m]):\n\u001b[32m     59\u001b[39m     \u001b[38;5;28mprint\u001b[39m(\u001b[33mf\u001b[39m\u001b[33m\"\u001b[39m\u001b[33mImage \u001b[39m\u001b[38;5;132;01m{\u001b[39;00midx\u001b[38;5;132;01m}\u001b[39;00m\u001b[33m changed\u001b[39m\u001b[33m\"\u001b[39m)\n",
      "\u001b[36mFile \u001b[39m\u001b[32m~/miniconda3/lib/python3.12/site-packages/grpc/_channel.py:1181\u001b[39m, in \u001b[36m_UnaryUnaryMultiCallable.__call__\u001b[39m\u001b[34m(self, request, timeout, metadata, credentials, wait_for_ready, compression)\u001b[39m\n\u001b[32m   1169\u001b[39m \u001b[38;5;28;01mdef\u001b[39;00m\u001b[38;5;250m \u001b[39m\u001b[34m__call__\u001b[39m(\n\u001b[32m   1170\u001b[39m     \u001b[38;5;28mself\u001b[39m,\n\u001b[32m   1171\u001b[39m     request: Any,\n\u001b[32m   (...)\u001b[39m\u001b[32m   1176\u001b[39m     compression: Optional[grpc.Compression] = \u001b[38;5;28;01mNone\u001b[39;00m,\n\u001b[32m   1177\u001b[39m ) -> Any:\n\u001b[32m   1178\u001b[39m     state, call = \u001b[38;5;28mself\u001b[39m._blocking(\n\u001b[32m   1179\u001b[39m         request, timeout, metadata, credentials, wait_for_ready, compression\n\u001b[32m   1180\u001b[39m     )\n\u001b[32m-> \u001b[39m\u001b[32m1181\u001b[39m     \u001b[38;5;28;01mreturn\u001b[39;00m \u001b[43m_end_unary_response_blocking\u001b[49m\u001b[43m(\u001b[49m\u001b[43mstate\u001b[49m\u001b[43m,\u001b[49m\u001b[43m \u001b[49m\u001b[43mcall\u001b[49m\u001b[43m,\u001b[49m\u001b[43m \u001b[49m\u001b[38;5;28;43;01mFalse\u001b[39;49;00m\u001b[43m,\u001b[49m\u001b[43m \u001b[49m\u001b[38;5;28;43;01mNone\u001b[39;49;00m\u001b[43m)\u001b[49m\n",
      "\u001b[36mFile \u001b[39m\u001b[32m~/miniconda3/lib/python3.12/site-packages/grpc/_channel.py:1009\u001b[39m, in \u001b[36m_end_unary_response_blocking\u001b[39m\u001b[34m(state, call, with_call, deadline)\u001b[39m\n\u001b[32m   1007\u001b[39m         \u001b[38;5;28;01mreturn\u001b[39;00m state.response\n\u001b[32m   1008\u001b[39m \u001b[38;5;28;01melse\u001b[39;00m:\n\u001b[32m-> \u001b[39m\u001b[32m1009\u001b[39m     \u001b[38;5;28;01mraise\u001b[39;00m _InactiveRpcError(state)\n",
      "\u001b[31m_InactiveRpcError\u001b[39m: <_InactiveRpcError of RPC that terminated with:\n\tstatus = StatusCode.UNAVAILABLE\n\tdetails = \"failed to connect to all addresses; last error: UNKNOWN: ipv4:127.0.0.1:8061: Failed to connect to remote host: connect: Connection refused (111)\"\n\tdebug_error_string = \"UNKNOWN:Error received from peer  {grpc_message:\"failed to connect to all addresses; last error: UNKNOWN: ipv4:127.0.0.1:8061: Failed to connect to remote host: connect: Connection refused (111)\", grpc_status:14}\"\n>"
     ]
    }
   ],
   "source": [
    "#target='printart.isr.ist.utl.pt:8061'\n",
    "target='localhost:8061'\n",
    "# List of file paths (example paths — replace with your actual ones)\n",
    "file_paths = [\n",
    "    #'00.jpg',\n",
    "    '01.jpg',\n",
    "]\n",
    "\n",
    "#list all files in a certain directory\n",
    "import os\n",
    "directory = \"/home/manuelf/mast3r/images_in/jpc_walk1\"\n",
    "file_paths = [os.path.join(directory, f) for f in os.listdir(directory) if os.path.isfile(os.path.join(directory, f))]\n",
    "\n",
    "# List to hold the binary data of each image\n",
    "image_byte_list = []\n",
    "for path in file_paths:\n",
    "    # Open the file in binary read mode ('rb') and read its entire content\n",
    "    with open(path, 'rb') as f:\n",
    "        image_bytes = f.read()\n",
    "        image_byte_list.append(image_bytes)\n",
    "        #print(f\"Read {path}: {len(image_bytes) / (1024 * 1024):.2f} MB\")\n",
    "\n",
    "in_json = {\n",
    "    \"opencv\": {\n",
    "        \"parameters\": {\n",
    "            \"feature_extractor\": \"SIFT\",\n",
    "            \"max_keypoints\": 2000, #if too large it overflows gRPC limit\n",
    "            \"ratio_thresh\": 0.75\n",
    "        }\n",
    "    }\n",
    "}\n",
    "\n",
    "in_json = {\n",
    "    \"opencv\": {\n",
    "        \"parameters\": {\n",
    "            \"ssim_thresh\": 0.90,\n",
    "            \"blur_kernel\": 5,\n",
    "            \"motion_thresh\": 30\n",
    "        }\n",
    "    }\n",
    "}\n",
    "\n",
    "idx = 0\n",
    "for im in image_byte_list[::5]:\n",
    "    request = opencv_pb2.Envelope(config_json = json.dumps(in_json),\n",
    "                                  data = {\"images\": wrap_value([im])})\n",
    "\n",
    "    #Para imagens muito grandes buffer grande\n",
    "    channel_opt = [('grpc.max_send_message_length',-1), \n",
    "                   ('grp.max_receive_message_length',-1),\n",
    "                   ('grpc.max_message_length', -1)]\n",
    "\n",
    "    channel=grpc.insecure_channel(target,options=channel_opt)\n",
    "    estimator_stub = opencv_pb2_grpc.PipelineServiceStub(channel)\n",
    "\n",
    "    #response = estimator_stub.Process(request)\n",
    "    response = estimator_stub.similarity_check(request)\n",
    "    if (json.loads(response.config_json)[\"changed\"]):\n",
    "        print(f\"Image {idx} changed\")\n",
    "\n",
    "    idx += 1\n"
   ]
  },
  {
   "cell_type": "code",
   "execution_count": 29,
   "metadata": {},
   "outputs": [
    {
     "name": "stdout",
     "output_type": "stream",
     "text": [
      "No inliers\n",
      "{\"status\": \"success\", \"runtime\": 0.08534836769104004, \"timestamp\": 1759758729.4174473}\n"
     ]
    }
   ],
   "source": [
    "\n",
    "kpts = bytes_to_np(unwrap_value(response.data[\"keypoints\"]))\n",
    "#descs = bytes_to_np(unwrap_value(response.data[\"descriptors\"]))\n",
    "try:\n",
    "    inliersA = bytes_to_np(unwrap_value(response.data[\"matches_inliers_a\"]))\n",
    "    inliersB = bytes_to_np(unwrap_value(response.data[\"matches_inliers_b\"]))\n",
    "\n",
    "    if inliersA.shape == inliersB.shape and inliersA.shape[0] > 0:\n",
    "        print(f\"Number of inliers: {inliersA.shape[0]}\")\n",
    "        \n",
    "\n",
    "except:\n",
    "    print(\"No inliers\")\n",
    "\n",
    "print(response.config_json)"
   ]
  },
  {
   "cell_type": "code",
   "execution_count": 105,
   "metadata": {},
   "outputs": [
    {
     "data": {
      "text/plain": [
       "(3, 501, 2)"
      ]
     },
     "execution_count": 105,
     "metadata": {},
     "output_type": "execute_result"
    }
   ],
   "source": [
    "kpts.shape"
   ]
  }
 ],
 "metadata": {
  "kernelspec": {
   "display_name": "base",
   "language": "python",
   "name": "python3"
  },
  "language_info": {
   "codemirror_mode": {
    "name": "ipython",
    "version": 3
   },
   "file_extension": ".py",
   "mimetype": "text/x-python",
   "name": "python",
   "nbconvert_exporter": "python",
   "pygments_lexer": "ipython3",
   "version": "3.12.2"
  }
 },
 "nbformat": 4,
 "nbformat_minor": 2
}
