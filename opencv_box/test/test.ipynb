{
 "cells": [
  {
   "cell_type": "code",
   "execution_count": 95,
   "metadata": {},
   "outputs": [],
   "source": [
    "import grpc\n",
    "\n",
    "# add a folder to the system path\n",
    "import sys\n",
    "sys.path.append(\"../protos\")\n",
    "import pipeline_pb2 as opencv_pb2\n",
    "import pipeline_pb2_grpc as opencv_pb2_grpc\n",
    "from aux import wrap_value, unwrap_value\n",
    "import json\n",
    "import numpy as np\n",
    "import io\n",
    "\n",
    "def bytes_to_np(b: bytes) -> np.ndarray:\n",
    "    return np.load(io.BytesIO(b))\n"
   ]
  },
  {
   "cell_type": "code",
   "execution_count": null,
   "metadata": {},
   "outputs": [],
   "source": [
    "#target='printart.isr.ist.utl.pt:8061'\n",
    "target='localhost:8061'\n",
    "# List of file paths (example paths — replace with your actual ones)\n",
    "file_paths = [\n",
    "    #'00.jpg',\n",
    "    '01.jpg',\n",
    "]\n",
    "\n",
    "#list all files in a certain directory\n",
    "import os\n",
    "directory = \"/home/manuelf/mast3r/images_in/jpc_walk1\"\n",
    "file_paths = [os.path.join(directory, f) for f in os.listdir(directory) if os.path.isfile(os.path.join(directory, f))]\n",
    "\n",
    "# List to hold the binary data of each image\n",
    "image_byte_list = []\n",
    "for path in file_paths:\n",
    "    # Open the file in binary read mode ('rb') and read its entire content\n",
    "    with open(path, 'rb') as f:\n",
    "        image_bytes = f.read()\n",
    "        image_byte_list.append(image_bytes)\n",
    "        #print(f\"Read {path}: {len(image_bytes) / (1024 * 1024):.2f} MB\")\n",
    "\n",
    "in_json = {\n",
    "    \"opencv\": {\n",
    "        \"parameters\": {\n",
    "            \"feature_extractor\": \"SIFT\",\n",
    "            \"max_keypoints\": 2000, #if too large it overflows gRPC limit\n",
    "            \"ratio_thresh\": 0.75\n",
    "        }\n",
    "    }\n",
    "}\n",
    "\n",
    "in_json = {\n",
    "    \"opencv\": {\n",
    "        \"parameters\": {\n",
    "            \"ssim_thresh\": 0.90,\n",
    "            \"blur_kernel\": 5,\n",
    "            \"motion_thresh\": 30\n",
    "        }\n",
    "    }\n",
    "}\n",
    "\n",
    "idx = 0\n",
    "for im in image_byte_list[::5]:\n",
    "    request = opencv_pb2.Envelope(config_json = json.dumps(in_json),\n",
    "                                  data = {\"images\": wrap_value([im])})\n",
    "\n",
    "    #Para imagens muito grandes buffer grande\n",
    "    channel_opt = [('grpc.max_send_message_length',-1), \n",
    "                   ('grp.max_receive_message_length',-1),\n",
    "                   ('grpc.max_message_length', -1)]\n",
    "\n",
    "    channel=grpc.insecure_channel(target,options=channel_opt)\n",
    "    estimator_stub = opencv_pb2_grpc.PipelineServiceStub(channel)\n",
    "\n",
    "    #response = estimator_stub.Process(request)\n",
    "    response = estimator_stub.similarity_check(request)\n",
    "    if (json.loads(response.config_json)[\"changed\"]):\n",
    "        print(f\"Image {idx} changed\")\n",
    "\n",
    "    idx += 1\n"
   ]
  },
  {
   "cell_type": "code",
   "execution_count": 29,
   "metadata": {},
   "outputs": [
    {
     "name": "stdout",
     "output_type": "stream",
     "text": [
      "No inliers\n",
      "{\"status\": \"success\", \"runtime\": 0.08534836769104004, \"timestamp\": 1759758729.4174473}\n"
     ]
    }
   ],
   "source": [
    "\n",
    "kpts = bytes_to_np(unwrap_value(response.data[\"keypoints\"]))\n",
    "#descs = bytes_to_np(unwrap_value(response.data[\"descriptors\"]))\n",
    "try:\n",
    "    inliersA = bytes_to_np(unwrap_value(response.data[\"matches_inliers_a\"]))\n",
    "    inliersB = bytes_to_np(unwrap_value(response.data[\"matches_inliers_b\"]))\n",
    "\n",
    "    if inliersA.shape == inliersB.shape and inliersA.shape[0] > 0:\n",
    "        print(f\"Number of inliers: {inliersA.shape[0]}\")\n",
    "        \n",
    "\n",
    "except:\n",
    "    print(\"No inliers\")\n",
    "\n",
    "print(response.config_json)"
   ]
  },
  {
   "cell_type": "code",
   "execution_count": 105,
   "metadata": {},
   "outputs": [
    {
     "data": {
      "text/plain": [
       "(3, 501, 2)"
      ]
     },
     "execution_count": 105,
     "metadata": {},
     "output_type": "execute_result"
    }
   ],
   "source": [
    "kpts.shape"
   ]
  }
 ],
 "metadata": {
  "kernelspec": {
   "display_name": "base",
   "language": "python",
   "name": "python3"
  },
  "language_info": {
   "codemirror_mode": {
    "name": "ipython",
    "version": 3
   },
   "file_extension": ".py",
   "mimetype": "text/x-python",
   "name": "python",
   "nbconvert_exporter": "python",
   "pygments_lexer": "ipython3",
   "version": "3.12.2"
  }
 },
 "nbformat": 4,
 "nbformat_minor": 2
}
