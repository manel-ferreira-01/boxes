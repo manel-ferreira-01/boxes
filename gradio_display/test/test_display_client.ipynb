{
 "cells": [
  {
   "cell_type": "markdown",
   "id": "7ceaacb1",
   "metadata": {},
   "source": [
    "✅ How to Use\n",
    "\n",
    "    Start your gRPC display server (python server.py).\n",
    "\n",
    "    Run the Jupyter notebook.\n",
    "\n",
    "    Upload an image and click \"Send to Display Server\".\n",
    "\n",
    "    The image and label will appear in the Gradio UI."
   ]
  },
  {
   "cell_type": "markdown",
   "id": "b4ad4224",
   "metadata": {},
   "source": [
    "# 📦 Step 1: Import required packages"
   ]
  },
  {
   "cell_type": "code",
   "execution_count": null,
   "id": "26b1c512",
   "metadata": {
    "vscode": {
     "languageId": "plaintext"
    }
   },
   "outputs": [],
   "source": [
    "\n",
    "import grpc\n",
    "import display_pb2\n",
    "import display_pb2_grpc\n",
    "import cv2\n",
    "import numpy as np\n",
    "import os\n",
    "# For image upload and preview\n",
    "from PIL import Image\n",
    "import io\n",
    "from IPython.display import display\n",
    "import ipywidgets as widgets\n"
   ]
  },
  {
   "cell_type": "markdown",
   "id": "8ad6e0a1",
   "metadata": {},
   "source": [
    "# 📸 Step 2: Define helper functions"
   ]
  },
  {
   "cell_type": "code",
   "execution_count": null,
   "id": "3a7331c6",
   "metadata": {
    "vscode": {
     "languageId": "plaintext"
    }
   },
   "outputs": [],
   "source": [
    "\n",
    "def encode_image_to_bytes(image_path):\n",
    "    \"\"\"Read an image and encode it into bytes (JPEG)\"\"\"\n",
    "    img = cv2.imread(image_path)\n",
    "    _, buffer = cv2.imencode('.jpg', img)\n",
    "    return buffer.tobytes()\n",
    "\n",
    "def preview_image(image_bytes):\n",
    "    \"\"\"Display an image in the notebook from bytes\"\"\"\n",
    "    image = Image.open(io.BytesIO(image_bytes))\n",
    "    display(image)\n",
    "\n",
    "def encode_image(image_path: str) -> bytes:\n",
    "    if not os.path.exists(image_path):\n",
    "        raise FileNotFoundError(f\"Image file not found: {image_path}\")\n",
    "    img = cv2.imread(image_path)\n",
    "    success, buffer = cv2.imencode('.jpg', img)\n",
    "    if not success:\n",
    "        raise ValueError(\"Failed to encode image\")\n",
    "    return buffer.tobytes()"
   ]
  },
  {
   "cell_type": "markdown",
   "id": "ae21b066",
   "metadata": {},
   "source": [
    "# 📤 Step 3: Send image + label to gRPC display server"
   ]
  },
  {
   "cell_type": "code",
   "execution_count": null,
   "id": "c180f534",
   "metadata": {
    "vscode": {
     "languageId": "plaintext"
    }
   },
   "outputs": [],
   "source": [
    "\n",
    "\n",
    "\n",
    "def get_image_to_server(host='localhost', port=8061):\n",
    "    channel = grpc.insecure_channel(f\"{host}:{port}\")\n",
    "    stub = display_pb2_grpc.DisplayServiceStub(channel)\n",
    "\n",
    "    request = display_pb2.AcquireRequest()\n",
    "\n",
    "    response = stub.acquire(request)\n",
    "    print(\"✅ Image required from  server.\")\n",
    "    return response\n",
    "\n",
    "def send_image_to_server(image_bytes, label, host='localhost', port=8061):\n",
    "    channel = grpc.insecure_channel(f\"{host}:{port}\")\n",
    "    stub = display_pb2_grpc.DisplayServiceStub(channel)\n",
    "\n",
    "    request = display_pb2.DisplayRequest(\n",
    "        label=label,\n",
    "        image=image_bytes\n",
    "    )\n",
    "\n",
    "    response = stub.display(request)\n",
    "    print(\"✅ Image sent to display server.\")\n",
    "    return response\n"
   ]
  },
  {
   "cell_type": "markdown",
   "id": "f53a1b1b",
   "metadata": {},
   "source": [
    "# 🖼️ Step 4: Upload widget to test with your own image"
   ]
  },
  {
   "cell_type": "code",
   "execution_count": null,
   "id": "a000cec7",
   "metadata": {
    "vscode": {
     "languageId": "plaintext"
    }
   },
   "outputs": [],
   "source": [
    "\n",
    "\n",
    "uploader = widgets.FileUpload(\n",
    "    accept='image/*',\n",
    "    multiple=False\n",
    ")\n",
    "\n",
    "label_input = widgets.Text(\n",
    "    value='Test image',\n",
    "    description='Label:',\n",
    "    disabled=False\n",
    ")\n",
    "\n",
    "button = widgets.Button(description=\"Send to Display Server\")\n",
    "\n",
    "def on_click(b):\n",
    "    if uploader.value:\n",
    "        file_info = next(iter(uploader.value.values()))\n",
    "        image_bytes = file_info['content']\n",
    "        label = label_input.value\n",
    "        preview_image(image_bytes)\n",
    "        send_image_to_server(image_bytes, label)\n",
    "    else:\n",
    "        print(\"⚠️ Please upload an image first.\")\n",
    "\n",
    "button.on_click(on_click)\n",
    "\n",
    "display(widgets.VBox([uploader, label_input, button]))\n"
   ]
  },
  {
   "cell_type": "code",
   "execution_count": null,
   "id": "0b06abae-97e4-4dcb-a5a2-f01d16f8925e",
   "metadata": {},
   "outputs": [],
   "source": [
    "for a in range(15):\n",
    "    r=get_image_to_server(host=\"printart.isr.ist.utl.pt\")\n",
    "    ro=send_image_to_server(r.image,r.label,host=\"printart.isr.ist.utl.pt\")\n",
    "    print(a)\n",
    "    "
   ]
  },
  {
   "cell_type": "code",
   "execution_count": null,
   "id": "0d0c5efb-8422-4c9c-bbf5-4e3d93f7ee66",
   "metadata": {},
   "outputs": [],
   "source": [
    "\n",
    "image_bytes = encode_image(\"/Users/jpc/Downloads/mathilde.jpg\")\n",
    "r=send_image_to_server(image_bytes,\"merda\")"
   ]
  },
  {
   "cell_type": "code",
   "execution_count": null,
   "id": "57245891-7273-41c6-8429-17b5d4d002c0",
   "metadata": {},
   "outputs": [],
   "source": [
    "ro=send_image_to_server(r.image,r.label)"
   ]
  },
  {
   "cell_type": "markdown",
   "id": "4ffaad16-c260-44c5-b0d4-c3ae6c10dbda",
   "metadata": {},
   "source": [
    "## Multiple images and Tabs\n"
   ]
  },
  {
   "cell_type": "code",
   "execution_count": null,
   "id": "0143644c-1187-4100-9071-79751cc61d63",
   "metadata": {},
   "outputs": [],
   "source": [
    "import grpc\n",
    "import json\n",
    "import display_pb2\n",
    "import display_pb2_grpc"
   ]
  },
  {
   "cell_type": "code",
   "execution_count": null,
   "id": "f1940ff7-5260-4042-b068-564039a0e4d0",
   "metadata": {},
   "outputs": [],
   "source": [
    "\n",
    "\n",
    "def load_image(path: str) -> bytes:\n",
    "    \"\"\"Load image from disk as raw bytes.\"\"\"\n",
    "    with open(path, \"rb\") as f:\n",
    "        return f.read()\n",
    "\n",
    "\n",
    "def save_image(image_bytes: bytes, path: str):\n",
    "    \"\"\"Save raw bytes to file.\"\"\"\n",
    "    with open(path, \"wb\") as f:\n",
    "        f.write(image_bytes)\n",
    "\n",
    "\n",
    "def run(server_address=\"localhost:50051\"):\n",
    "    # Choose 3 images (replace with your paths)\n",
    "    image_paths = [\"img1.jpg\", \"img2.jpg\", \"img3.jpg\"]\n",
    "    images = [load_image(p) for p in image_paths]\n",
    "\n",
    "    # Create channel + stub\n",
    "    channel = grpc.insecure_channel(server_address)\n",
    "    stub = display_pb2_grpc.DisplayServiceStub(channel)\n",
    "\n",
    "    # Build request\n",
    "    request = display_pb2.DisplayRequest(\n",
    "        label=json.dumps({\"test\": \"multi-image\"}),\n",
    "        image=images\n",
    "    )\n",
    "\n",
    "    # Call service\n",
    "    response = stub.process(request)\n",
    "\n",
    "    # Save returned annotated images\n",
    "    for i, img_bytes in enumerate(response.image):\n",
    "        save_image(img_bytes, f\"annotated_{i+1}.jpg\")\n",
    "\n",
    "    # Parse detections JSON\n",
    "    detections = json.loads(response.config_json)  # depending on server return\n",
    "    # if using YOLOResponse, it would be response.detections_json instead\n",
    "\n",
    "    print(\"\\nDetections per image:\")\n",
    "    for i, det_list in enumerate(detections):\n",
    "        print(f\"Image {i+1}:\")\n",
    "        for det in det_list:\n",
    "            print(f\"  {det}\")\n",
    "\n",
    "    print(\"\\nAnnotated images saved as annotated_1.jpg, annotated_2.jpg, annotated_3.jpg\")\n",
    "\n",
    "\n",
    "if __name__ == \"__main__\":\n",
    "    run()\n"
   ]
  }
 ],
 "metadata": {
  "kernelspec": {
   "display_name": "Python 3 (ipykernel)",
   "language": "python",
   "name": "python3"
  },
  "language_info": {
   "codemirror_mode": {
    "name": "ipython",
    "version": 3
   },
   "file_extension": ".py",
   "mimetype": "text/x-python",
   "name": "python",
   "nbconvert_exporter": "python",
   "pygments_lexer": "ipython3",
   "version": "3.13.5"
  }
 },
 "nbformat": 4,
 "nbformat_minor": 5
}
