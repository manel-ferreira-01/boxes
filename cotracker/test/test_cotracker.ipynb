{
 "cells": [
  {
   "cell_type": "markdown",
   "id": "c04526e6-8f48-42ac-afde-7d8dda770feb",
   "metadata": {
    "editable": true,
    "slideshow": {
     "slide_type": ""
    },
    "tags": []
   },
   "source": [
    "# Generic Box\n",
    "This code communicates with a component. The component was launched with the command below from the root of the repository:\n",
    "\n",
    "```shell\n",
    "$ docker run --rm -it -p 4061:8061 -v ./src/external1.py=/workspace/external.py generic\n",
    "```\n"
   ]
  },
  {
   "cell_type": "code",
   "execution_count": 1,
   "id": "03414be6-450d-4ec1-9bd2-6aab13d4156f",
   "metadata": {},
   "outputs": [],
   "source": [
    "import matplotlib.pyplot as plt\n",
    "import PIL.Image as PIL_image\n",
    "import numpy as np\n",
    "import cv2\n",
    "from scipy.io import loadmat,savemat\n",
    "\n",
    "from importlib.machinery import SourceFileLoader\n",
    "#In case of importing files from other directory\n",
    "cotrakcer_pb2 = SourceFileLoader(\"cotracker_pb2\",\"../protos/cotracker_pb2.py\").load_module()\n",
    "cotrakcer_pb2_grpc = SourceFileLoader(\"cotracker_pb2_grpc\",\"../protos/cotracker_pb2_grpc.py\").load_module()\n",
    "\n",
    "import argparse\n",
    "import grpc\n",
    "import io"
   ]
  },
  {
   "cell_type": "markdown",
   "id": "760efcd5-5bd7-48eb-9cd3-6300f5b14f28",
   "metadata": {},
   "source": [
    "## Set parameters (GRPC) and data\n",
    "Set IP and port of the service (the same used in docker run), input data (image in a matfile) and call the service"
   ]
  },
  {
   "cell_type": "code",
   "execution_count": 24,
   "id": "ef8f328c-3721-442b-9fb4-2c37754347dc",
   "metadata": {},
   "outputs": [],
   "source": [
    "from PIL import Image\n",
    "import decord\n",
    "import torch\n",
    "\n",
    "#target='printart.isr.ist.utl.pt:8061'\n",
    "target='localhost:8061'\n",
    "\n",
    "# List of file paths (example paths — replace with your actual ones)\n",
    "video_path = \"./cut.mp4\"\n",
    "send_video = False\n",
    "\n",
    "#send video as file bytes\n",
    "if send_video:\n",
    "    with open(video_path, \"rb\") as f:\n",
    "        video_bytes = f.read()\n",
    "\n",
    "    request = cotrakcer_pb2.CoTrackerRequest(\n",
    "        video=video_bytes,\n",
    "        grid_size=32)\n",
    "else:\n",
    "    #send video as tensor\n",
    "    \n",
    "    video = decord.VideoReader(video_path)\n",
    "    frames = [video[i].asnumpy() for i in range(len(video))]\n",
    "    video_numpy = np.stack(frames) # shape (num_frames, height, width, 3)\n",
    "\n",
    "    #goto 1, frames, 3, height, width\n",
    "    video_numpy = np.transpose(video_numpy,(0,3,1,2)) # shape (num_frames, 3, height, width)\n",
    "    video_tensor = torch.tensor(video_numpy).unsqueeze(0).float()\n",
    "\n",
    "channel_opt = [('grpc.max_send_message_length', 512 * 1024 * 1024), ('grpc.max_receive_message_length', 512 * 1024 * 1024)]\n",
    "channel=grpc.insecure_channel(target,options=channel_opt)\n",
    "estimator_stub = cotrakcer_pb2_grpc.CoTrackerServiceStub(channel)"
   ]
  },
  {
   "cell_type": "markdown",
   "id": "e142014a-c628-47ac-b680-7b8f513e788b",
   "metadata": {},
   "source": [
    "#### Do your task. Example: read an image from a matlab file and send it to process"
   ]
  },
  {
   "cell_type": "code",
   "execution_count": 25,
   "id": "5dec30ee-2660-40b2-bff2-8772fd1ab2ce",
   "metadata": {},
   "outputs": [],
   "source": [
    "#Name of the method in the service\n",
    "response = estimator_stub.Forward(request)\n",
    "#After finishing channel.close"
   ]
  },
  {
   "cell_type": "code",
   "execution_count": 29,
   "id": "c3ecd16e",
   "metadata": {},
   "outputs": [
    {
     "data": {
      "text/plain": [
       "tensor([[[[  20.2740,   15.0183],\n",
       "          [  60.8219,   15.0183],\n",
       "          [ 101.3699,   15.0183],\n",
       "          ...,\n",
       "          [1196.1644,  705.8590],\n",
       "          [1236.7124,  705.8590],\n",
       "          [1277.2604,  705.8590]],\n",
       "\n",
       "         [[  20.9392,   15.1378],\n",
       "          [  61.1122,   15.7791],\n",
       "          [ 100.8960,   16.0372],\n",
       "          ...,\n",
       "          [1199.1458,  706.3630],\n",
       "          [1239.1407,  706.5099],\n",
       "          [1278.1276,  706.2202]],\n",
       "\n",
       "         [[  20.2246,   14.9090],\n",
       "          [  59.9206,   15.5971],\n",
       "          [  99.1393,   15.8833],\n",
       "          ...,\n",
       "          [1199.5540,  705.9616],\n",
       "          [1239.5835,  706.1919],\n",
       "          [1278.2189,  705.6882]],\n",
       "\n",
       "         ...,\n",
       "\n",
       "         [[  18.3808,   15.4969],\n",
       "          [  56.3232,   16.6860],\n",
       "          [  88.7253,   17.6858],\n",
       "          ...,\n",
       "          [1251.0031,  654.7152],\n",
       "          [1291.4117,  663.1351],\n",
       "          [1320.6698,  651.7093]],\n",
       "\n",
       "         [[  19.7382,   16.3766],\n",
       "          [  56.7336,   18.5109],\n",
       "          [  87.8291,   20.4812],\n",
       "          ...,\n",
       "          [1263.9919,  643.5801],\n",
       "          [1305.2228,  653.2831],\n",
       "          [1331.5662,  637.3782]],\n",
       "\n",
       "         [[  19.0553,   15.9707],\n",
       "          [  56.7551,   17.9920],\n",
       "          [  87.4782,   20.2223],\n",
       "          ...,\n",
       "          [1263.9437,  643.1846],\n",
       "          [1304.0876,  653.4718],\n",
       "          [1331.5959,  638.2880]]]])"
      ]
     },
     "execution_count": 29,
     "metadata": {},
     "output_type": "execute_result"
    },
    {
     "name": "stderr",
     "output_type": "stream",
     "text": [
      "I0000 00:00:1757416848.279901   57566 chttp2_transport.cc:1335] ipv6:%5B::1%5D:8061: Got goaway [2] err=UNAVAILABLE:GOAWAY received; Error code: 2; Debug Text: Cancelling all calls {grpc_status:14, http2_error:2}\n"
     ]
    }
   ],
   "source": [
    "import torch\n",
    "torch.load(io.BytesIO(response.tracks))\n",
    "#torch.load(io.BytesIO(response.visibility))"
   ]
  }
 ],
 "metadata": {
  "kernelspec": {
   "display_name": "base",
   "language": "python",
   "name": "python3"
  },
  "language_info": {
   "codemirror_mode": {
    "name": "ipython",
    "version": 3
   },
   "file_extension": ".py",
   "mimetype": "text/x-python",
   "name": "python",
   "nbconvert_exporter": "python",
   "pygments_lexer": "ipython3",
   "version": "3.12.2"
  }
 },
 "nbformat": 4,
 "nbformat_minor": 5
}
