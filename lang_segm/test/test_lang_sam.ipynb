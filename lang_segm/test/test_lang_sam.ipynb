{
 "cells": [
  {
   "cell_type": "markdown",
   "id": "c04526e6-8f48-42ac-afde-7d8dda770feb",
   "metadata": {
    "editable": true,
    "slideshow": {
     "slide_type": ""
    },
    "tags": []
   },
   "source": [
    "# Generic Box\n",
    "This code communicates with a component. The component was launched with the command below from the root of the repository:\n",
    "\n",
    "```shell\n",
    "$ docker run --rm -it -p 4061:8061 -v ./src/external1.py=/workspace/external.py generic\n",
    "```\n"
   ]
  },
  {
   "cell_type": "code",
   "execution_count": 1,
   "id": "03414be6-450d-4ec1-9bd2-6aab13d4156f",
   "metadata": {},
   "outputs": [],
   "source": [
    "import argparse\n",
    "import grpc\n",
    "import io\n",
    "import matplotlib.pyplot as plt\n",
    "#In case of importing files from other directory\n",
    "from importlib.machinery import SourceFileLoader\n",
    "\n",
    "# add a folder to the system path\n",
    "import sys\n",
    "sys.path.append(\"../protos\")\n",
    "import pipeline_pb2 as vggt_pb2\n",
    "import pipeline_pb2_grpc as vggt_pb2_grpc\n",
    "from aux import wrap_value, unwrap_value\n",
    "\n",
    "import PIL.Image as PIL_image\n",
    "import numpy as np\n",
    "import cv2\n",
    "from scipy.io import loadmat,savemat\n"
   ]
  },
  {
   "cell_type": "markdown",
   "id": "760efcd5-5bd7-48eb-9cd3-6300f5b14f28",
   "metadata": {},
   "source": [
    "## Set parameters (GRPC) and data\n",
    "Set IP and port of the service (the same used in docker run), input data (image in a matfile) and call the service"
   ]
  },
  {
   "cell_type": "code",
   "execution_count": 18,
   "id": "ef8f328c-3721-442b-9fb4-2c37754347dc",
   "metadata": {},
   "outputs": [
    {
     "name": "stdout",
     "output_type": "stream",
     "text": [
      "Read images/00.jpg: 0.16 MB\n",
      "Read images/01.jpg: 0.16 MB\n",
      "['escavator', 'wood.']\n"
     ]
    }
   ],
   "source": [
    "from PIL import Image\n",
    "import json\n",
    "\n",
    "#target='printart.isr.ist.utl.pt:8061'\n",
    "target='localhost:8061'\n",
    "# List of file paths (example paths — replace with your actual ones)\n",
    "file_paths = [\n",
    "    'images/00.jpg',\n",
    "    'images/01.jpg',\n",
    "]\n",
    "\n",
    "#list all files in a certain directory\n",
    "import os\n",
    "directory = \"/home/manuelf/mast3r/images_in/piv\"\n",
    "#file_paths = [os.path.join(directory, f) for f in os.listdir(directory) if os.path.isfile(os.path.join(directory, f))][0:1]\n",
    "\n",
    "# List to hold the binary data of each image\n",
    "image_byte_list = []\n",
    "for path in file_paths:\n",
    "    # Open the file in binary read mode ('rb') and read its entire content\n",
    "    with open(path, 'rb') as f:\n",
    "        image_bytes = f.read()\n",
    "        image_byte_list.append(image_bytes)\n",
    "        print(f\"Read {path}: {len(image_bytes) / (1024 * 1024):.2f} MB\")\n",
    "\n",
    "config_json = {\n",
    "    \"aispgradio\": {\n",
    "                \"command\": \"lang_sam\",\n",
    "                \"parameters\": {\"device\":\"cpu\"},\n",
    "                \"text_prompt\": [\"escavator\", \"wood.\"]}}\n",
    "\n",
    "print(config_json[\"aispgradio\"][\"text_prompt\"])\n",
    "\n",
    "request = vggt_pb2.Envelope(data={\"images\":wrap_value(image_byte_list)},\n",
    "                            config_json = json.dumps(config_json))\n",
    "\n",
    "#Para imagens muito grandes buffer grande\n",
    "channel_opt = [('grpc.max_send_message_length', -1), ('grpc.max_receive_message_length', -1)]\n",
    "channel=grpc.insecure_channel(target,options=channel_opt)\n",
    "estimator_stub = vggt_pb2_grpc.PipelineServiceStub(channel)"
   ]
  },
  {
   "cell_type": "code",
   "execution_count": 19,
   "id": "5dec30ee-2660-40b2-bff2-8772fd1ab2ce",
   "metadata": {},
   "outputs": [],
   "source": [
    "#Name of the method in the service\n",
    "response = estimator_stub.Process(request)\n",
    "#After finishing channel.close"
   ]
  },
  {
   "cell_type": "code",
   "execution_count": null,
   "id": "9fe9bf88",
   "metadata": {},
   "outputs": [
    {
     "data": {
      "text/plain": [
       "[{'scores': array([], dtype=float32),\n",
       "  'boxes': array([], shape=(0, 4), dtype=float32),\n",
       "  'text_labels': [],\n",
       "  'labels': [],\n",
       "  'masks': [],\n",
       "  'mask_scores': []},\n",
       " {'scores': array([], dtype=float32),\n",
       "  'boxes': array([], shape=(0, 4), dtype=float32),\n",
       "  'text_labels': [],\n",
       "  'labels': [],\n",
       "  'masks': [],\n",
       "  'mask_scores': []}]"
      ]
     },
     "execution_count": 20,
     "metadata": {},
     "output_type": "execute_result"
    },
    {
     "name": "stderr",
     "output_type": "stream",
     "text": [
      "I0000 00:00:1761736179.524033   31927 chttp2_transport.cc:1336] ipv4:127.0.0.1:8061: Got goaway [2] err=UNAVAILABLE:GOAWAY received; Error code: 2; Debug Text: Cancelling all calls {http2_error:2, grpc_status:14}\n"
     ]
    }
   ],
   "source": [
    "import pickle\n",
    "import zstandard as zstd\n",
    "\n",
    "out_list = pickle.loads(zstd.decompress(unwrap_value(response.data[\"results\"])))\n",
    "out_list"
   ]
  },
  {
   "cell_type": "code",
   "execution_count": 17,
   "id": "8b72e653",
   "metadata": {},
   "outputs": [
    {
     "ename": "IndexError",
     "evalue": "list index out of range",
     "output_type": "error",
     "traceback": [
      "\u001b[31m---------------------------------------------------------------------------\u001b[39m",
      "\u001b[31mIndexError\u001b[39m                                Traceback (most recent call last)",
      "\u001b[36mCell\u001b[39m\u001b[36m \u001b[39m\u001b[32mIn[17]\u001b[39m\u001b[32m, line 1\u001b[39m\n\u001b[32m----> \u001b[39m\u001b[32m1\u001b[39m plt.imshow(\u001b[43mout_list\u001b[49m\u001b[43m[\u001b[49m\u001b[32;43m0\u001b[39;49m\u001b[43m]\u001b[49m\u001b[43m[\u001b[49m\u001b[33;43m\"\u001b[39;49m\u001b[33;43mmasks\u001b[39;49m\u001b[33;43m\"\u001b[39;49m\u001b[43m]\u001b[49m\u001b[43m[\u001b[49m\u001b[32;43m0\u001b[39;49m\u001b[43m]\u001b[49m)\n",
      "\u001b[31mIndexError\u001b[39m: list index out of range"
     ]
    }
   ],
   "source": [
    "plt.imshow(out_list[0][\"masks\"][0])"
   ]
  }
 ],
 "metadata": {
  "kernelspec": {
   "display_name": "base",
   "language": "python",
   "name": "python3"
  },
  "language_info": {
   "codemirror_mode": {
    "name": "ipython",
    "version": 3
   },
   "file_extension": ".py",
   "mimetype": "text/x-python",
   "name": "python",
   "nbconvert_exporter": "python",
   "pygments_lexer": "ipython3",
   "version": "3.12.2"
  }
 },
 "nbformat": 4,
 "nbformat_minor": 5
}
