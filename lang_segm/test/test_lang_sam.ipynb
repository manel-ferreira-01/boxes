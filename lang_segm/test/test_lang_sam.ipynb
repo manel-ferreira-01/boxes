{
 "cells": [
  {
   "cell_type": "markdown",
   "id": "c04526e6-8f48-42ac-afde-7d8dda770feb",
   "metadata": {
    "editable": true,
    "slideshow": {
     "slide_type": ""
    },
    "tags": []
   },
   "source": [
    "# Generic Box\n",
    "This code communicates with a component. The component was launched with the command below from the root of the repository:\n",
    "\n",
    "```shell\n",
    "$ docker run --rm -it -p 4061:8061 -v ./src/external1.py=/workspace/external.py generic\n",
    "```\n"
   ]
  },
  {
   "cell_type": "code",
   "execution_count": 1,
   "id": "03414be6-450d-4ec1-9bd2-6aab13d4156f",
   "metadata": {},
   "outputs": [],
   "source": [
    "import argparse\n",
    "import grpc\n",
    "import io\n",
    "import matplotlib.pyplot as plt\n",
    "#In case of importing files from other directory\n",
    "from importlib.machinery import SourceFileLoader\n",
    "\n",
    "# add a folder to the system path\n",
    "import sys\n",
    "sys.path.append(\"../protos\")\n",
    "import pipeline_pb2 as vggt_pb2\n",
    "import pipeline_pb2_grpc as vggt_pb2_grpc\n",
    "from aux import wrap_value, unwrap_value\n",
    "\n",
    "import PIL.Image as PIL_image\n",
    "import numpy as np\n",
    "import cv2\n",
    "from scipy.io import loadmat,savemat\n"
   ]
  },
  {
   "cell_type": "markdown",
   "id": "760efcd5-5bd7-48eb-9cd3-6300f5b14f28",
   "metadata": {},
   "source": [
    "## Set parameters (GRPC) and data\n",
    "Set IP and port of the service (the same used in docker run), input data (image in a matfile) and call the service"
   ]
  },
  {
   "cell_type": "code",
   "execution_count": null,
   "id": "ef8f328c-3721-442b-9fb4-2c37754347dc",
   "metadata": {},
   "outputs": [
    {
     "name": "stdout",
     "output_type": "stream",
     "text": [
      "Read images/00.jpg: 0.16 MB\n",
      "Read images/01.jpg: 0.16 MB\n",
      "Read images/01.jpg: 0.16 MB\n",
      "Read images/01.jpg: 0.16 MB\n",
      "Read images/01.jpg: 0.16 MB\n",
      "Read images/01.jpg: 0.16 MB\n",
      "Read images/01.jpg: 0.16 MB\n",
      "Read images/01.jpg: 0.16 MB\n",
      "Read images/01.jpg: 0.16 MB\n",
      "Read images/01.jpg: 0.16 MB\n",
      "['escavator. wood.']\n"
     ]
    }
   ],
   "source": [
    "from PIL import Image\n",
    "import json\n",
    "\n",
    "#target='printart.isr.ist.utl.pt:8061'\n",
    "target='localhost:8061'\n",
    "# List of file paths (example paths — replace with your actual ones)\n",
    "file_paths = [\n",
    "    'images/00.jpg',\n",
    "    'images/01.jpg',\n",
    "]\n",
    "\n",
    "#list all files in a certain directory\n",
    "import os\n",
    "directory = \"/home/manuelf/mast3r/images_in/piv\"\n",
    "#file_paths = [os.path.join(directory, f) for f in os.listdir(directory) if os.path.isfile(os.path.join(directory, f))][0:1]\n",
    "\n",
    "# List to hold the binary data of each image\n",
    "image_byte_list = []\n",
    "for path in file_paths:\n",
    "    # Open the file in binary read mode ('rb') and read its entire content\n",
    "    with open(path, 'rb') as f:\n",
    "        image_bytes = f.read()\n",
    "        image_byte_list.append(image_bytes)\n",
    "        print(f\"Read {path}: {len(image_bytes) / (1024 * 1024):.2f} MB\")\n",
    "\n",
    "config_json = {\n",
    "    \"aispgradio\": {\n",
    "                \"command\": \"lang_sam\",\n",
    "                \"parameters\": {\"device\":\"cpu\"},\n",
    "                \"text_prompt\": [\"escavator. wood.\"]}}\n",
    "\n",
    "print(config_json[\"aispgradio\"][\"text_prompt\"])\n",
    "\n",
    "request = vggt_pb2.Envelope(data={\"images\":wrap_value(image_byte_list)},\n",
    "                            config_json = json.dumps(config_json))\n",
    "\n",
    "#Para imagens muito grandes buffer grande\n",
    "channel_opt = [('grpc.max_send_message_length', -1), ('grpc.max_receive_message_length', -1)]\n",
    "channel=grpc.insecure_channel(target,options=channel_opt)\n",
    "estimator_stub = vggt_pb2_grpc.PipelineServiceStub(channel)"
   ]
  },
  {
   "cell_type": "code",
   "execution_count": 63,
   "id": "5dec30ee-2660-40b2-bff2-8772fd1ab2ce",
   "metadata": {},
   "outputs": [
    {
     "ename": "_InactiveRpcError",
     "evalue": "<_InactiveRpcError of RPC that terminated with:\n\tstatus = StatusCode.UNAVAILABLE\n\tdetails = \"failed to connect to all addresses; last error: UNAVAILABLE: ipv4:127.0.0.1:8061: Socket closed\"\n\tdebug_error_string = \"UNKNOWN:Error received from peer  {grpc_status:14, grpc_message:\"failed to connect to all addresses; last error: UNAVAILABLE: ipv4:127.0.0.1:8061: Socket closed\"}\"\n>",
     "output_type": "error",
     "traceback": [
      "\u001b[31m---------------------------------------------------------------------------\u001b[39m",
      "\u001b[31m_InactiveRpcError\u001b[39m                         Traceback (most recent call last)",
      "\u001b[36mCell\u001b[39m\u001b[36m \u001b[39m\u001b[32mIn[63]\u001b[39m\u001b[32m, line 2\u001b[39m\n\u001b[32m      1\u001b[39m \u001b[38;5;66;03m#Name of the method in the service\u001b[39;00m\n\u001b[32m----> \u001b[39m\u001b[32m2\u001b[39m response = \u001b[43mestimator_stub\u001b[49m\u001b[43m.\u001b[49m\u001b[43mProcess\u001b[49m\u001b[43m(\u001b[49m\u001b[43mrequest\u001b[49m\u001b[43m)\u001b[49m\n\u001b[32m      3\u001b[39m \u001b[38;5;66;03m#After finishing channel.close\u001b[39;00m\n",
      "\u001b[36mFile \u001b[39m\u001b[32m~/miniconda3/lib/python3.12/site-packages/grpc/_channel.py:1181\u001b[39m, in \u001b[36m_UnaryUnaryMultiCallable.__call__\u001b[39m\u001b[34m(self, request, timeout, metadata, credentials, wait_for_ready, compression)\u001b[39m\n\u001b[32m   1169\u001b[39m \u001b[38;5;28;01mdef\u001b[39;00m\u001b[38;5;250m \u001b[39m\u001b[34m__call__\u001b[39m(\n\u001b[32m   1170\u001b[39m     \u001b[38;5;28mself\u001b[39m,\n\u001b[32m   1171\u001b[39m     request: Any,\n\u001b[32m   (...)\u001b[39m\u001b[32m   1176\u001b[39m     compression: Optional[grpc.Compression] = \u001b[38;5;28;01mNone\u001b[39;00m,\n\u001b[32m   1177\u001b[39m ) -> Any:\n\u001b[32m   1178\u001b[39m     state, call = \u001b[38;5;28mself\u001b[39m._blocking(\n\u001b[32m   1179\u001b[39m         request, timeout, metadata, credentials, wait_for_ready, compression\n\u001b[32m   1180\u001b[39m     )\n\u001b[32m-> \u001b[39m\u001b[32m1181\u001b[39m     \u001b[38;5;28;01mreturn\u001b[39;00m \u001b[43m_end_unary_response_blocking\u001b[49m\u001b[43m(\u001b[49m\u001b[43mstate\u001b[49m\u001b[43m,\u001b[49m\u001b[43m \u001b[49m\u001b[43mcall\u001b[49m\u001b[43m,\u001b[49m\u001b[43m \u001b[49m\u001b[38;5;28;43;01mFalse\u001b[39;49;00m\u001b[43m,\u001b[49m\u001b[43m \u001b[49m\u001b[38;5;28;43;01mNone\u001b[39;49;00m\u001b[43m)\u001b[49m\n",
      "\u001b[36mFile \u001b[39m\u001b[32m~/miniconda3/lib/python3.12/site-packages/grpc/_channel.py:1009\u001b[39m, in \u001b[36m_end_unary_response_blocking\u001b[39m\u001b[34m(state, call, with_call, deadline)\u001b[39m\n\u001b[32m   1007\u001b[39m         \u001b[38;5;28;01mreturn\u001b[39;00m state.response\n\u001b[32m   1008\u001b[39m \u001b[38;5;28;01melse\u001b[39;00m:\n\u001b[32m-> \u001b[39m\u001b[32m1009\u001b[39m     \u001b[38;5;28;01mraise\u001b[39;00m _InactiveRpcError(state)\n",
      "\u001b[31m_InactiveRpcError\u001b[39m: <_InactiveRpcError of RPC that terminated with:\n\tstatus = StatusCode.UNAVAILABLE\n\tdetails = \"failed to connect to all addresses; last error: UNAVAILABLE: ipv4:127.0.0.1:8061: Socket closed\"\n\tdebug_error_string = \"UNKNOWN:Error received from peer  {grpc_status:14, grpc_message:\"failed to connect to all addresses; last error: UNAVAILABLE: ipv4:127.0.0.1:8061: Socket closed\"}\"\n>"
     ]
    }
   ],
   "source": [
    "#Name of the method in the service\n",
    "response = estimator_stub.Process(request)\n",
    "#After finishing channel.close"
   ]
  },
  {
   "cell_type": "code",
   "execution_count": 48,
   "id": "9fe9bf88",
   "metadata": {},
   "outputs": [
    {
     "data": {
      "text/plain": [
       "[{'scores': array([0.81919587, 0.47244135, 0.41376182], dtype=float32),\n",
       "  'boxes': array([[2.7098923e+02, 6.2261227e+01, 6.8518988e+02, 3.6562476e+02],\n",
       "         [2.3139865e+02, 4.3316868e+01, 4.6269687e+02, 1.5968610e+02],\n",
       "         [2.1890375e-01, 1.5845265e+02, 7.7872522e+02, 5.1878613e+02]],\n",
       "        dtype=float32),\n",
       "  'text_labels': ['escavator', 'wood', 'wood'],\n",
       "  'labels': ['escavator', 'wood', 'wood'],\n",
       "  'masks': array([[[0., 0., 0., ..., 0., 0., 0.],\n",
       "          [0., 0., 0., ..., 0., 0., 0.],\n",
       "          [0., 0., 0., ..., 0., 0., 0.],\n",
       "          ...,\n",
       "          [0., 0., 0., ..., 0., 0., 0.],\n",
       "          [0., 0., 0., ..., 0., 0., 0.],\n",
       "          [0., 0., 0., ..., 0., 0., 0.]],\n",
       "  \n",
       "         [[0., 0., 0., ..., 0., 0., 0.],\n",
       "          [0., 0., 0., ..., 0., 0., 0.],\n",
       "          [0., 0., 0., ..., 0., 0., 0.],\n",
       "          ...,\n",
       "          [0., 0., 0., ..., 0., 0., 0.],\n",
       "          [0., 0., 0., ..., 0., 0., 0.],\n",
       "          [0., 0., 0., ..., 0., 0., 0.]],\n",
       "  \n",
       "         [[0., 0., 0., ..., 0., 0., 0.],\n",
       "          [0., 0., 0., ..., 0., 0., 0.],\n",
       "          [0., 0., 0., ..., 0., 0., 0.],\n",
       "          ...,\n",
       "          [1., 1., 1., ..., 0., 0., 0.],\n",
       "          [1., 1., 1., ..., 0., 0., 0.],\n",
       "          [0., 0., 0., ..., 0., 0., 0.]]],\n",
       "        shape=(3, 520, 779), dtype=float32),\n",
       "  'mask_scores': array([0.9595808, 0.9285737, 0.9500107], dtype=float32)},\n",
       " {'scores': array([0.6581557 , 0.37996376, 0.30282652, 0.34177962], dtype=float32),\n",
       "  'boxes': array([[2.5459531e+02, 3.1335804e+01, 6.5062640e+02, 3.8401239e+02],\n",
       "         [4.5997418e+02, 5.0921887e-01, 7.2487646e+02, 1.2236780e+02],\n",
       "         [6.7008591e+01, 2.6427001e-01, 2.7644751e+02, 1.2669956e+02],\n",
       "         [4.1603088e-02, 9.6441338e+01, 7.7881647e+02, 5.1869470e+02]],\n",
       "        dtype=float32),\n",
       "  'text_labels': ['escavator', 'wood', 'wood', 'wood'],\n",
       "  'labels': ['escavator', 'wood', 'wood', 'wood'],\n",
       "  'masks': array([[[0., 0., 0., ..., 0., 0., 0.],\n",
       "          [0., 0., 0., ..., 0., 0., 0.],\n",
       "          [0., 0., 0., ..., 0., 0., 0.],\n",
       "          ...,\n",
       "          [0., 0., 0., ..., 0., 0., 0.],\n",
       "          [0., 0., 0., ..., 0., 0., 0.],\n",
       "          [0., 0., 0., ..., 0., 0., 0.]],\n",
       "  \n",
       "         [[0., 0., 0., ..., 0., 0., 0.],\n",
       "          [0., 0., 0., ..., 0., 0., 0.],\n",
       "          [0., 0., 0., ..., 0., 0., 0.],\n",
       "          ...,\n",
       "          [0., 0., 0., ..., 0., 0., 0.],\n",
       "          [0., 0., 0., ..., 0., 0., 0.],\n",
       "          [0., 0., 0., ..., 0., 0., 0.]],\n",
       "  \n",
       "         [[0., 0., 0., ..., 0., 0., 0.],\n",
       "          [0., 0., 0., ..., 0., 0., 0.],\n",
       "          [0., 0., 0., ..., 0., 0., 0.],\n",
       "          ...,\n",
       "          [0., 0., 0., ..., 0., 0., 0.],\n",
       "          [0., 0., 0., ..., 0., 0., 0.],\n",
       "          [0., 0., 0., ..., 0., 0., 0.]],\n",
       "  \n",
       "         [[0., 0., 0., ..., 0., 0., 0.],\n",
       "          [0., 0., 0., ..., 0., 0., 0.],\n",
       "          [0., 0., 0., ..., 0., 0., 0.],\n",
       "          ...,\n",
       "          [0., 0., 1., ..., 0., 0., 0.],\n",
       "          [0., 0., 0., ..., 0., 0., 0.],\n",
       "          [0., 0., 0., ..., 0., 0., 0.]]],\n",
       "        shape=(4, 520, 779), dtype=float32),\n",
       "  'mask_scores': array([0.9703525 , 0.9638333 , 0.9046192 , 0.93764687], dtype=float32)}]"
      ]
     },
     "execution_count": 48,
     "metadata": {},
     "output_type": "execute_result"
    }
   ],
   "source": [
    "import pickle\n",
    "out_list = pickle.loads(unwrap_value(response.data[\"results\"]))\n",
    "out_list"
   ]
  },
  {
   "cell_type": "code",
   "execution_count": null,
   "id": "8b72e653",
   "metadata": {},
   "outputs": [
    {
     "data": {
      "text/plain": [
       "<matplotlib.image.AxesImage at 0x7ffa28ecfbc0>"
      ]
     },
     "execution_count": 29,
     "metadata": {},
     "output_type": "execute_result"
    },
    {
     "data": {
      "image/png": "[encoded data removed]",
      "text/plain": [
       "<Figure size 640x480 with 1 Axes>"
      ]
     },
     "metadata": {},
     "output_type": "display_data"
    },
    {
     "name": "stderr",
     "output_type": "stream",
     "text": [
      "I0000 00:00:1760688343.817117   30958 chttp2_transport.cc:1336] ipv6:%5B::1%5D:8061: Got goaway [2] err=UNAVAILABLE:GOAWAY received; Error code: 2; Debug Text: Cancelling all calls {grpc_status:14, http2_error:2}\n"
     ]
    }
   ],
   "source": [
    "plt.imshow(out_list[0][\"masks\"][0])"
   ]
  }
 ],
 "metadata": {
  "kernelspec": {
   "display_name": "base",
   "language": "python",
   "name": "python3"
  },
  "language_info": {
   "codemirror_mode": {
    "name": "ipython",
    "version": 3
   },
   "file_extension": ".py",
   "mimetype": "text/x-python",
   "name": "python",
   "nbconvert_exporter": "python",
   "pygments_lexer": "ipython3",
   "version": "3.12.2"
  }
 },
 "nbformat": 4,
 "nbformat_minor": 5
}
