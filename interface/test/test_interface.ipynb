{
 "cells": [
  {
   "cell_type": "code",
   "execution_count": 1,
   "id": "629527b1",
   "metadata": {},
   "outputs": [],
   "source": [
    "\n",
    "import grpc\n",
    "import acquisition_pb2\n",
    "import acquisition_pb2_grpc\n",
    "import io\n",
    "from PIL import Image\n",
    "import json\n",
    "import time\n",
    "import os\n"
   ]
  },
  {
   "cell_type": "code",
   "execution_count": 2,
   "id": "784e1e4e",
   "metadata": {},
   "outputs": [],
   "source": [
    "\n",
    "# Function to convert PIL Image to bytes\n",
    "def image_to_bytes(img: Image.Image, format='PNG'):\n",
    "    \"\"\"Converts a PIL Image to a bytes object.\"\"\"\n",
    "    buf = io.BytesIO()\n",
    "    img.save(buf, format=format)\n",
    "    return buf.getvalue()\n",
    "\n",
    "# Function to create a dummy image for testing\n",
    "def create_dummy_image(width=100, height=100, color=(255, 0, 0)):\n",
    "    \"\"\"Creates a simple red square PIL image.\"\"\"\n",
    "    img = Image.new('RGB', (width, height), color)\n",
    "    return img\n"
   ]
  },
  {
   "cell_type": "code",
   "execution_count": 3,
   "id": "44ad5adc",
   "metadata": {},
   "outputs": [],
   "source": [
    "\n",
    "def run():\n",
    "    # Replace with your server's address and port\n",
    "    # Assuming the server is running on localhost:8061 (default from your server code)\n",
    "    channel = grpc.insecure_channel('Mac.Home:8061', options=[\n",
    "        ('grpc.max_send_message_length', 512 * 1024 * 1024),\n",
    "        ('grpc.max_receive_message_length', 512 * 1024 * 1024)\n",
    "    ])\n",
    "    stub = acquisition_pb2_grpc.AcquisitionServiceStub(channel)\n",
    "\n",
    "    print(\"--- Testing Acquire Method ---\")\n",
    "    try:\n",
    "        # For 'acquire' method, the server expects something to be in its 'data_acq_queue'.\n",
    "        # In a real scenario, another part of your system or the Gradio UI would put data there.\n",
    "        # For this test, we'll simulate the server having data ready.\n",
    "        # Since the server's 'acquire' method simply gets from 'data_acq_queue',\n",
    "        # we can only test the 'No data available' scenario unless we modify the server\n",
    "        # to have initial data or interact with its Gradio interface first.\n",
    "\n",
    "        # Let's assume the server has processed an image from its Gradio input\n",
    "        # and it's available in its internal queue.\n",
    "        # To make this test truly work with your server, you'd either:\n",
    "        # 1. Manually upload an image to the Gradio UI on the server.\n",
    "        # 2. Modify the server to initially populate `data_acq_queue` with dummy data for testing.\n",
    "        # 3. (Less common for gRPC) Have a separate thread in the client that puts data into the server's queue.\n",
    "\n",
    "        print(\"Attempting to acquire data...\")\n",
    "        acquire_request = acquisition_pb2.AcquireRequest()\n",
    "        acquire_response = stub.acquire(acquire_request)\n",
    "\n",
    "        if acquire_response.label and acquire_response.image:\n",
    "            print(f\"Acquire successful!\")\n",
    "            print(f\"Received label: {acquire_response.label}\")\n",
    "\n",
    "            # Save the acquired image\n",
    "            try:\n",
    "                acquired_image_path = \"acquired_image_from_grpc.png\"\n",
    "                with open(acquired_image_path, \"wb\") as f:\n",
    "                    f.write(acquire_response.image)\n",
    "                print(f\"Acquired image saved to {acquired_image_path}\")\n",
    "                # Optional: Open the image to verify\n",
    "                # Image.open(io.BytesIO(acquire_response.image)).show()\n",
    "            except Exception as e:\n",
    "                print(f\"Error saving acquired image: {e}\")\n",
    "        else:\n",
    "            print(\"Acquire returned an empty response. This might mean no data was available on the server.\")\n",
    "\n",
    "    except grpc.RpcError as e:\n",
    "        if e.code() == grpc.StatusCode.NOT_FOUND:\n",
    "            print(f\"Acquire failed: {e.details}\")\n",
    "        else:\n",
    "            print(f\"Acquire failed with unexpected error: {e}\")\n",
    "\n",
    "    print(\"\\n--- Testing Display Method ---\")\n",
    "    try:\n",
    "        # Create a dummy image to send for display\n",
    "        #dummy_image = create_dummy_image(width=200, height=150, color=(0, 255, 0)) # Green image\n",
    "        #dummy_image_bytes = image_to_bytes(dummy_image, format='JPEG') # Send as JPEG for variety\n",
    "        dummy_image_bytes=acquire_response.image\n",
    "\n",
    "        # Create a dummy label (JSON string)\n",
    "        dummy_label_data = {\n",
    "            \"session_id\": \"test_session_123\",\n",
    "            \"timestamp\": time.time(),\n",
    "            \"description\": \"Dummy image for display test\"\n",
    "        }\n",
    "        dummy_label = json.dumps(dummy_label_data)\n",
    "        dummy_label = acquire_response.label\n",
    "        print(\"Sending image and label for display...\")\n",
    "        display_request = acquisition_pb2.DisplayRequest(\n",
    "            label=dummy_label,\n",
    "            image=dummy_image_bytes\n",
    "        )\n",
    "        display_response = stub.display(display_request)\n",
    "        print(\"Display request sent. Server should process and potentially display this.\")\n",
    "        print(\"Display method returned an empty response as expected.\")\n",
    "\n",
    "        # In a real application, you might have another mechanism to verify\n",
    "        # if the display action on the server was successful (e.g., logging,\n",
    "        # a callback, or checking a visual output).\n",
    "        \n",
    "    except grpc.RpcError as e:\n",
    "        print(f\"Display failed: {e}\")\n",
    "\n",
    "    channel.close()\n"
   ]
  },
  {
   "cell_type": "code",
   "execution_count": null,
   "id": "2dcd8cdf",
   "metadata": {},
   "outputs": [],
   "source": []
  },
  {
   "cell_type": "code",
   "execution_count": null,
   "id": "ab8fd746",
   "metadata": {},
   "outputs": [],
   "source": [
    "for i in range(1,10):\n",
    "    run()\n",
    "    print(i)"
   ]
  },
  {
   "cell_type": "markdown",
   "id": "12d158bc",
   "metadata": {},
   "source": [
    "New service display and acquisition in separate ports: display 8161 and acquisition on 8061"
   ]
  },
  {
   "cell_type": "code",
   "execution_count": 9,
   "id": "97562d45",
   "metadata": {},
   "outputs": [],
   "source": [
    "import grpc\n",
    "import acquisition_pb2\n",
    "import acquisition_pb2_grpc\n",
    "from PIL import Image\n",
    "import io\n",
    "import json\n",
    "import time\n",
    "\n",
    "# --- Helper Functions ---\n",
    "def bytes_to_image(image_bytes: bytes):\n",
    "    return Image.open(io.BytesIO(image_bytes))\n",
    "\n",
    "def image_to_bytes(img: Image.Image, format='PNG'):\n",
    "    buf = io.BytesIO()\n",
    "    img.save(buf, format=format)\n",
    "    return buf.getvalue()\n"
   ]
  },
  {
   "cell_type": "code",
   "execution_count": null,
   "id": "198c6bb5",
   "metadata": {},
   "outputs": [],
   "source": [
    "\n",
    "# --- Combined Test: acquire from AcquisitionService and send to DisplayService ---\n",
    "\n",
    "print(\"\\n[Client] Connecting to AcquisitionService at port 8061...\")\n",
    "channel=grpc.insecure_channel('localhost:8061')\n",
    "acq_stub = acquisition_pb2_grpc.AcquisitionServiceStub(channel)\n",
    "acquire_response = acq_stub.acquire(acquisition_pb2.AcquireRequest())"
   ]
  },
  {
   "cell_type": "code",
   "execution_count": 12,
   "id": "86448e65",
   "metadata": {},
   "outputs": [
    {
     "ename": "NameError",
     "evalue": "name 'acquire_response' is not defined",
     "output_type": "error",
     "traceback": [
      "\u001b[0;31m---------------------------------------------------------------------------\u001b[0m",
      "\u001b[0;31mNameError\u001b[0m                                 Traceback (most recent call last)",
      "Cell \u001b[0;32mIn[12], line 5\u001b[0m\n\u001b[1;32m      1\u001b[0m disp_channel\u001b[38;5;241m=\u001b[39mgrpc\u001b[38;5;241m.\u001b[39minsecure_channel(\u001b[38;5;124m'\u001b[39m\u001b[38;5;124mlocalhost:8161\u001b[39m\u001b[38;5;124m'\u001b[39m)\n\u001b[1;32m      2\u001b[0m disp_stub \u001b[38;5;241m=\u001b[39m acquisition_pb2_grpc\u001b[38;5;241m.\u001b[39mDisplayServiceStub(disp_channel)\n\u001b[1;32m      4\u001b[0m display_request \u001b[38;5;241m=\u001b[39m acquisition_pb2\u001b[38;5;241m.\u001b[39mDisplayRequest(\n\u001b[0;32m----> 5\u001b[0m     label\u001b[38;5;241m=\u001b[39m\u001b[43macquire_response\u001b[49m\u001b[38;5;241m.\u001b[39mlabel,\n\u001b[1;32m      6\u001b[0m     image\u001b[38;5;241m=\u001b[39macquire_response\u001b[38;5;241m.\u001b[39mimage)\n\u001b[1;32m      7\u001b[0m display_response \u001b[38;5;241m=\u001b[39m disp_stub\u001b[38;5;241m.\u001b[39mdisplay(display_request)\n",
      "\u001b[0;31mNameError\u001b[0m: name 'acquire_response' is not defined"
     ]
    }
   ],
   "source": [
    "disp_channel=grpc.insecure_channel('localhost:8161')\n",
    "disp_stub = acquisition_pb2_grpc.DisplayServiceStub(disp_channel)\n",
    "\n",
    "display_request = acquisition_pb2.DisplayRequest(\n",
    "    label=acquire_response.label,\n",
    "    image=acquire_response.image)\n",
    "display_response = disp_stub.display(display_request)"
   ]
  },
  {
   "cell_type": "code",
   "execution_count": null,
   "id": "d8278948",
   "metadata": {},
   "outputs": [
    {
     "name": "stdout",
     "output_type": "stream",
     "text": [
      "[Client] gRPC error: StatusCode.UNAVAILABLE - failed to connect to all addresses; last error: UNKNOWN: ipv4:127.0.0.1:8061: Failed to connect to remote host: connect: Connection refused (111)\n"
     ]
    }
   ],
   "source": [
    "\n",
    "\n",
    "with grpc.insecure_channel('localhost:8061') as acq_channel:\n",
    "        acq_stub = acquisition_pb2_grpc.AcquisitionServiceStub(acq_channel)\n",
    "\n",
    "        try:\n",
    "            acquire_response = acq_stub.acquire(acquisition_pb2.AcquireRequest())\n",
    "            print(f\"[Client] Acquired image with label: {acquire_response.label[:80]}...\")\n",
    "\n",
    "            # Decode the image for visualization (optional)\n",
    "            image = bytes_to_image(acquire_response.image)\n",
    "            image.show(title=\"Acquired Image\")\n",
    "\n",
    "            # Forward to DisplayService\n",
    "            print(\"[Client] Forwarding image to DisplayService at port 8161...\")\n",
    "            with grpc.insecure_channel('localhost:8161') as disp_channel:\n",
    "                disp_stub = acquisition_pb2_grpc.DisplayServiceStub(disp_channel)\n",
    "\n",
    "                display_request = acquisition_pb2.DisplayRequest(\n",
    "                    label=acquire_response.label,\n",
    "                    image=acquire_response.image\n",
    "                )\n",
    "\n",
    "                display_response = disp_stub.display(display_request)\n",
    "                print(\"[Client] DisplayService accepted the image.\")\n",
    "\n",
    "        except grpc.RpcError as e:\n",
    "            print(f\"[Client] gRPC error: {e.code()} - {e.details()}\")\n",
    "\n"
   ]
  },
  {
   "cell_type": "code",
   "execution_count": 7,
   "id": "dc27926e",
   "metadata": {},
   "outputs": [
    {
     "data": {
      "text/plain": [
       "<grpc._channel.Channel at 0xffffaf528640>"
      ]
     },
     "execution_count": 7,
     "metadata": {},
     "output_type": "execute_result"
    }
   ],
   "source": [
    "channel"
   ]
  },
  {
   "cell_type": "code",
   "execution_count": null,
   "id": "9836422c",
   "metadata": {},
   "outputs": [],
   "source": [
    "\n",
    "# --- Main ---\n",
    "if __name__ == \"__main__\":\n",
    "    test_acquire_then_display()\n"
   ]
  }
 ],
 "metadata": {
  "kernelspec": {
   "display_name": "Python 3",
   "language": "python",
   "name": "python3"
  },
  "language_info": {
   "codemirror_mode": {
    "name": "ipython",
    "version": 3
   },
   "file_extension": ".py",
   "mimetype": "text/x-python",
   "name": "python",
   "nbconvert_exporter": "python",
   "pygments_lexer": "ipython3",
   "version": "3.10.18"
  }
 },
 "nbformat": 4,
 "nbformat_minor": 5
}
