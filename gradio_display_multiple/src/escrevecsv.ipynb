{
 "cells": [
  {
   "cell_type": "code",
   "execution_count": 109,
   "id": "62c31f91-f77f-471e-973f-1fc9f2bdf9e7",
   "metadata": {},
   "outputs": [],
   "source": [
    "import itertools \n",
    "from display_interface_tabs import getfromkey\n",
    "\n",
    "def getrowsfromjson(seqdetections):\n",
    "    rows=[]\n",
    "    for i,img in enumerate(seqdetections) :\n",
    "        for obj in img:\n",
    "            if obj:\n",
    "                tmp=list(obj.values())\n",
    "                tmp.insert(0,i+1)\n",
    "                rows.append(flatten(tmp))\n",
    "    return rows\n",
    "\n",
    "\n",
    "def flatten(lst):\n",
    "    return list(itertools.chain.from_iterable(map(flatten, lst)) if isinstance(lst, list) else [lst])\n",
    "\n",
    "def flatten_dict(d, parent_key='', sep='_'):\n",
    "    items = []\n",
    "    for k, v in d.items():\n",
    "        new_key = f\"{parent_key}{sep}{k}\" if parent_key else k\n",
    "        if isinstance(v, dict):\n",
    "            items.extend(flatten_dict(v, new_key, sep=sep).items())\n",
    "        elif isinstance(v, list):\n",
    "            for i, item in enumerate(v):\n",
    "                items.extend(flatten_dict({f'{new_key}_{i}': item}, new_key, sep=sep).items())\n",
    "        else:\n",
    "            items.append((new_key, v))\n",
    "    return dict(items)\n",
    "\n",
    "\n",
    "def flatten_dict2(d):\n",
    "    items = []\n",
    "    for k, v in d.items():\n",
    "        new_key = f\"{parent_key}{sep}{k}\" if parent_key else k\n",
    "        if isinstance(v, dict):\n",
    "            items.extend(flatten_dict(v, new_key, sep=sep).items())\n",
    "        elif isinstance(v, list):\n",
    "            for i, item in enumerate(v):\n",
    "                items.extend(flatten_dict({f'{new_key}_{i}': item}, new_key, sep=sep).items())\n",
    "        else:\n",
    "            items.append((new_key, v))\n",
    "    return dict(items)\n",
    "\n",
    "\n",
    "def write_flattened_to_csv(data, filename='flattened_data.csv'):\n",
    "    with open(filename, mode='w', newline='') as file:\n",
    "        writer = csv.writer(file)\n",
    "        # Write the header\n",
    "        headers = data.keys()\n",
    "        writer.writerow(headers)\n",
    "        \n",
    "        # Write one row per data item\n",
    "        for key in data:\n",
    "            writer.writerow([data[key]])\n"
   ]
  },
  {
   "cell_type": "code",
   "execution_count": 21,
   "id": "b385ee2b-c031-48f0-a871-51a51e9a9745",
   "metadata": {},
   "outputs": [],
   "source": [
    "dicionario=d"
   ]
  },
  {
   "cell_type": "code",
   "execution_count": 17,
   "id": "d0e49d8c-a814-4ce7-a9ba-008ebf659259",
   "metadata": {},
   "outputs": [],
   "source": [
    "dd=d[1]['YOLO']\n",
    "ims=d[0]['aispgradio']"
   ]
  },
  {
   "cell_type": "code",
   "execution_count": 72,
   "id": "44bac343-3eaf-433d-8d8f-4118b4fad69b",
   "metadata": {},
   "outputs": [
    {
     "data": {
      "text/plain": [
       "[7,\n",
       " [339.5961608886719,\n",
       "  242.76222229003906,\n",
       "  359.16461181640625,\n",
       "  300.2703857421875],\n",
       " 0.5792803764343262,\n",
       " 0,\n",
       " 'person']"
      ]
     },
     "execution_count": 72,
     "metadata": {},
     "output_type": "execute_result"
    }
   ],
   "source": [
    "[dd[0][0][x] for y in for x in dd[0][y]]"
   ]
  },
  {
   "cell_type": "code",
   "execution_count": null,
   "id": "a25513d1-8afc-4293-9967-6f1bb97f2a36",
   "metadata": {},
   "outputs": [],
   "source": [
    "rows=[]\n",
    "index=1\n",
    "for i,img in enumerate(dd) :\n",
    "    for obj in img:\n",
    "        tmp=list(obj.values())\n",
    "        tmp.insert(0,i)\n",
    "        rows.append(flatten(tmp))\n",
    "print(rows)\n"
   ]
  },
  {
   "cell_type": "code",
   "execution_count": 110,
   "id": "7aa36544-b8e6-4c98-b113-ffebf0be40ab",
   "metadata": {},
   "outputs": [
    {
     "data": {
      "text/plain": [
       "[]"
      ]
     },
     "execution_count": 110,
     "metadata": {},
     "output_type": "execute_result"
    }
   ],
   "source": [
    "if getrowsfromjson([[], []])"
   ]
  }
 ],
 "metadata": {
  "kernelspec": {
   "display_name": "Python 3 (ipykernel)",
   "language": "python",
   "name": "python3"
  },
  "language_info": {
   "codemirror_mode": {
    "name": "ipython",
    "version": 3
   },
   "file_extension": ".py",
   "mimetype": "text/x-python",
   "name": "python",
   "nbconvert_exporter": "python",
   "pygments_lexer": "ipython3",
   "version": "3.12.11"
  }
 },
 "nbformat": 4,
 "nbformat_minor": 5
}
