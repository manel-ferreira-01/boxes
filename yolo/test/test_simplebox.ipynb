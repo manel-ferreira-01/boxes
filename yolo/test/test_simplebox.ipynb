{
 "cells": [
  {
   "cell_type": "markdown",
   "id": "c04526e6-8f48-42ac-afde-7d8dda770feb",
   "metadata": {
    "editable": true,
    "slideshow": {
     "slide_type": ""
    },
    "tags": []
   },
   "source": [
    "# Generic Box\n",
    "This code communicates with a component. The component was launched with the command below from the root of the repository:\n",
    "\n",
    "```shell\n",
    "$ docker run --rm -it -p 4061:8061 -v ./src/external1.py=/workspace/external.py generic\n",
    "```\n"
   ]
  },
  {
   "cell_type": "code",
   "execution_count": null,
   "id": "03414be6-450d-4ec1-9bd2-6aab13d4156f",
   "metadata": {},
   "outputs": [],
   "source": [
    "import argparse\n",
    "import grpc\n",
    "import io\n",
    "import matplotlib.pyplot as plt\n",
    "#In case of importing files from other directory\n",
    "#from importlib.machinery import SourceFileLoader\n",
    "#simplebox_pb2 = SourceFileLoader(\"simplebox_pb2\",\"../src/simplebox_pb2.py\").load_module()\n",
    "#simplebox_pb2_grpc = SourceFileLoader(\"simplebox_pb2_grpc\",\"../src/simplebox_pb2_grpc.py\").load_module()\n",
    "import yolosimplebox_pb2\n",
    "import yolosimplebox_pb2_grpc\n",
    "import PIL.Image as PIL_image\n",
    "import numpy as np\n",
    "import cv2\n",
    "from scipy.io import loadmat,savemat"
   ]
  },
  {
   "cell_type": "markdown",
   "id": "a9a03b96-afde-482f-9616-e8e81454778d",
   "metadata": {},
   "source": [
    "Auxiliary functions - dipslay image"
   ]
  },
  {
   "cell_type": "code",
   "execution_count": null,
   "id": "4e63a3cf-4a2d-4b62-82d9-0b47749bf614",
   "metadata": {},
   "outputs": [],
   "source": [
    "\n",
    "def display_image(image):\n",
    "    if isinstance(image,np.ndarray):\n",
    "        img =image\n",
    "    else:\n",
    "        img = PIL_image.open(io.BytesIO(image.data))\n",
    "    ax = plt.gca()\n",
    "    ax.imshow(img)\n",
    "    plt.show()\n"
   ]
  },
  {
   "cell_type": "markdown",
   "id": "760efcd5-5bd7-48eb-9cd3-6300f5b14f28",
   "metadata": {},
   "source": [
    "## Set parameters (GRPC) and data\n",
    "Set IP and port of the service (the same used in docker run), input data (image in a matfile) and call the service"
   ]
  },
  {
   "cell_type": "code",
   "execution_count": null,
   "id": "ef8f328c-3721-442b-9fb4-2c37754347dc",
   "metadata": {},
   "outputs": [],
   "source": [
    "target='ifetch.isr.ist.utl.pt:8061'\n",
    "data_file='../Images/eiffel.mat'\n",
    "#Para imagens muito grandes buffer grande\n",
    "channel_opt = [('grpc.max_send_message_length', 512 * 1024 * 1024), ('grpc.max_receive_message_length', 512 * 1024 * 1024)]\n",
    "channel=grpc.insecure_channel(target,options=channel_opt)\n",
    "estimator_stub = yolosimplebox_pb2_grpc.SimpleBoxServiceStub(channel)"
   ]
  },
  {
   "cell_type": "markdown",
   "id": "e142014a-c628-47ac-b680-7b8f513e788b",
   "metadata": {},
   "source": [
    "#### Do your task. Example: read an image from a matlab file and send it to process"
   ]
  },
  {
   "cell_type": "code",
   "execution_count": null,
   "id": "5dec30ee-2660-40b2-bff2-8772fd1ab2ce",
   "metadata": {},
   "outputs": [],
   "source": [
    "\n",
    "with open(data_file, 'rb') as fp:\n",
    "        data_bytes = fp.read()\n",
    "request = yolosimplebox_pb2.matfile(data=data_bytes)\n",
    "#Name of the method in the service\n",
    "response=estimator_stub.detect(request)\n",
    "\n",
    "#After finishing channel.close"
   ]
  },
  {
   "cell_type": "markdown",
   "id": "a6c5c09c-840d-423b-bc84-e22c5285a6cb",
   "metadata": {},
   "source": [
    "### Run in one single shot "
   ]
  },
  {
   "cell_type": "code",
   "execution_count": null,
   "id": "e2dcec4e-5e34-4a8f-bd94-17154a9d36fe",
   "metadata": {},
   "outputs": [],
   "source": [
    "target='ifetch.isr.ist.utl.pt:8061'\n",
    "data_file='../Images/eiffel.mat'\n",
    "#Para imagens muito grandes buffer grande\n",
    "channel_opt = [('grpc.max_send_message_length', 512 * 1024 * 1024), ('grpc.max_receive_message_length', 512 * 1024 * 1024)]\n",
    "\n",
    "with grpc.insecure_channel(target,options=channel_opt) as channel:\n",
    "    estimator_stub = simplebox_pb2_grpc.SimpleBoxServiceStub(channel)\n",
    "    with open(data_path, 'rb') as fp:\n",
    "        data_bytes = fp.read()\n",
    "    request = simplebox_pb2.matfile(data=data_bytes)\n",
    "    response=estimator_stub.detect(request)"
   ]
  },
  {
   "cell_type": "markdown",
   "id": "eff604b3-dee2-48ab-81f9-189266bf8df7",
   "metadata": {},
   "source": [
    "# Check output"
   ]
  },
  {
   "cell_type": "code",
   "execution_count": null,
   "id": "c4e34018-13c2-4510-bd4f-42c4a1a45d1f",
   "metadata": {},
   "outputs": [],
   "source": [
    "with open(\"lixo.mat\", 'wb') as fp:\n",
    "        fp.write(io.BytesIO(response.data).getbuffer())"
   ]
  },
  {
   "cell_type": "code",
   "execution_count": null,
   "id": "6138b3cd-a55b-4f11-ac9e-af18c511903e",
   "metadata": {},
   "outputs": [],
   "source": []
  },
  {
   "cell_type": "code",
   "execution_count": null,
   "id": "892c8bfa-3861-4d03-a5ea-069a17857401",
   "metadata": {},
   "outputs": [],
   "source": []
  },
  {
   "cell_type": "code",
   "execution_count": null,
   "id": "dfc5f28b-083e-43b8-a556-e46e48b078c0",
   "metadata": {},
   "outputs": [],
   "source": []
  }
 ],
 "metadata": {
  "kernelspec": {
   "display_name": "Python 3 (ipykernel)",
   "language": "python",
   "name": "python3"
  },
  "language_info": {
   "codemirror_mode": {
    "name": "ipython",
    "version": 3
   },
   "file_extension": ".py",
   "mimetype": "text/x-python",
   "name": "python",
   "nbconvert_exporter": "python",
   "pygments_lexer": "ipython3",
   "version": "3.10.12"
  }
 },
 "nbformat": 4,
 "nbformat_minor": 5
}
