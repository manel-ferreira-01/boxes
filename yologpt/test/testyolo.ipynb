{
 "cells": [
  {
   "cell_type": "code",
   "execution_count": null,
   "id": "787a2d47-4bef-4a9c-b137-9b5e6fc7128c",
   "metadata": {},
   "outputs": [],
   "source": [
    "import grpc\n",
    "import yolo_pb2\n",
    "import yolo_pb2_grpc\n",
    "import cv2\n",
    "from scipy.io import savemat\n",
    "\n"
   ]
  },
  {
   "cell_type": "markdown",
   "id": "31998f4a-761c-4f18-b401-9f5c355c1afd",
   "metadata": {},
   "source": [
    "### If grpc versions are different compile yolo_pb2 and yolo_pb2_grpc \n",
    "\n",
    "python -m grpc_tools.protoc -I. -I../protos --python_out=. --grpc_python_out=. yolo.proto"
   ]
  },
  {
   "cell_type": "code",
   "execution_count": 17,
   "id": "8022ca4e-48f4-484f-ae6f-ca3589db3614",
   "metadata": {},
   "outputs": [],
   "source": [
    "# Read image and encode as bytes\n",
    "img = cv2.imread(\"../../Images/eiffel.png\")\n",
    "_,img_encoded = cv2.imencode('.jpg', img)\n",
    "img_bytes = img_encoded.tobytes()\n",
    "\n",
    "channel = grpc.insecure_channel('localhost:8061')\n",
    "stub = yolo_pb2_grpc.YOLOserviceStub(channel)\n",
    "\n",
    "response = stub.Detect(yolo_pb2.YOLORequest(image=img_bytes,confidence_threshold=0.2))\n",
    "channel.close()"
   ]
  },
  {
   "cell_type": "code",
   "execution_count": 6,
   "id": "10b065ff-937b-49f2-977b-750c057b7e2c",
   "metadata": {},
   "outputs": [],
   "source": [
    "with open(\"output.jpg\",\"wb\") as f:\n",
    "    f.write(response.labeled_image)\n",
    "detections=eval(response.detections_json)\n",
    "savemat(\"detections2.mat\",{\"detections\":detections})\n",
    "\n"
   ]
  },
  {
   "cell_type": "markdown",
   "id": "ca447e9d",
   "metadata": {},
   "source": [
    "### Tracking "
   ]
  },
  {
   "cell_type": "code",
   "execution_count": 24,
   "id": "96838dfa-04e6-4c4b-bd2a-29acbf83d4de",
   "metadata": {},
   "outputs": [],
   "source": [
    "# Read image and encode as bytes\n",
    "img = cv2.imread(\"../../Images/eiffel.png\")\n",
    "_,img_encoded = cv2.imencode('.jpg', img)\n",
    "img_bytes = img_encoded.tobytes()\n",
    "\n",
    "channel = grpc.insecure_channel('localhost:8061')\n",
    "stub = yolo_pb2_grpc.YOLOserviceStub(channel)\n",
    "comms=json.dumps([{\"reset\":1},{\"conf\":0.2}])\n",
    "response = stub.Track(yolo_pb2.YOLOTrackRequest(image=img_bytes,track_config_json=comms))\n",
    "#channel.close()\n"
   ]
  },
  {
   "cell_type": "markdown",
   "id": "1ad839b5",
   "metadata": {},
   "source": [
    "### One argument only"
   ]
  },
  {
   "cell_type": "code",
   "execution_count": 23,
   "id": "248e0044",
   "metadata": {},
   "outputs": [],
   "source": [
    "# Read image and encode as bytes\n",
    "img = cv2.imread(\"../../Images/eiffel.png\")\n",
    "_,img_encoded = cv2.imencode('.jpg', img)\n",
    "img_bytes = img_encoded.tobytes()\n",
    "channel = grpc.insecure_channel('localhost:8061')\n",
    "stub = yolo_pb2_grpc.YOLOserviceStub(channel)\n",
    "response = stub.Track(yolo_pb2.YOLOTrackRequest(image=img_bytes))\n",
    "#channel.close()\n"
   ]
  },
  {
   "cell_type": "code",
   "execution_count": null,
   "id": "cb5bb898",
   "metadata": {},
   "outputs": [
    {
     "name": "stdout",
     "output_type": "stream",
     "text": [
      "\n",
      "image 1/1 /workspaces/boxes/yologpt/test/../../Images/eiffel.png: 384x640 4 persons, 58.4ms\n",
      "Speed: 1.1ms preprocess, 58.4ms inference, 0.4ms postprocess per image at shape (1, 3, 384, 640)\n"
     ]
    }
   ],
   "source": [
    "import ultralytics\n",
    "import cv2\n",
    "\n",
    "arg={\"source\":\"../../Images/eiffel.png\",\"conf\":0.2}\n",
    "m=ultralytics.YOLO(\"yolo11n.pt\")\n",
    "r=m(**arg)\n"
   ]
  },
  {
   "cell_type": "code",
   "execution_count": null,
   "id": "e669cbb6",
   "metadata": {},
   "outputs": [],
   "source": []
  }
 ],
 "metadata": {
  "kernelspec": {
   "display_name": "Python 3",
   "language": "python",
   "name": "python3"
  },
  "language_info": {
   "codemirror_mode": {
    "name": "ipython",
    "version": 3
   },
   "file_extension": ".py",
   "mimetype": "text/x-python",
   "name": "python",
   "nbconvert_exporter": "python",
   "pygments_lexer": "ipython3",
   "version": "3.9.6"
  }
 },
 "nbformat": 4,
 "nbformat_minor": 5
}
